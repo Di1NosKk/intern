{
 "cells": [
  {
   "attachments": {},
   "cell_type": "markdown",
   "id": "f134b7cf",
   "metadata": {},
   "source": [
    "## 抽取人名测试 python package"
   ]
  },
  {
   "cell_type": "code",
   "execution_count": 16,
   "id": "a94cdb33",
   "metadata": {},
   "outputs": [],
   "source": [
    "from LAC import LAC\n",
    "import time\n",
    "lac = LAC(mode=\"lac\")\n",
    "# 句子提取名字\n",
    "def extract_name(sentence: str, type='lac'):\n",
    "    user_name_lis = []\n",
    "    if type == 'lac':\n",
    "        _result = lac.run(sentence)\n",
    "        for _index, _label in enumerate(_result[1]):\n",
    "            if _label == \"PER\":\n",
    "                user_name_lis.append(_result[0][_index])\n",
    "    else:\n",
    "        raise Exception('type not suppose')\n",
    "    return user_name_lis"
   ]
  },
  {
   "cell_type": "code",
   "execution_count": 37,
   "id": "95d341cf",
   "metadata": {},
   "outputs": [],
   "source": [
    "from paddlenlp import Taskflow\n",
    "tag = Taskflow(\"pos_tagging\")\n",
    "text = \"\"\"\n",
    "代理机构联系方式招标代理机构：中招国际招标有限公司执行机构：中招国际招标有限公司吉林分公司联系人：韩亚男、张林奎电话：0431-81127625、0431-81127628邮箱：hanyanan@cntcitc.com.cn地址：长春市净月区生态大街2345号华荣泰时代7栋21层2023年6月26日\n",
    "\"\"\""
   ]
  },
  {
   "cell_type": "code",
   "execution_count": 40,
   "id": "ec9b1d88",
   "metadata": {
    "scrolled": false
   },
   "outputs": [
    {
     "name": "stdout",
     "output_type": "stream",
     "text": [
      "[('\\n', 'w'), ('代理', 'vn'), ('机构', 'n'), ('联系', 'vn'), ('方式', 'n'), ('招标代理机构', 'ORG'), ('：', 'w'), ('中招国际招标有限公司', 'ORG'), ('执行', 'v'), ('机构', 'n'), ('：', 'w'), ('中招国际招标有限公司吉林分公司', 'ORG'), ('联系人', 'n'), ('：', 'w'), ('韩亚男', 'PER'), ('、', 'w'), ('张林奎', 'PER'), ('电话', 'n'), ('：', 'w'), ('0431', 'm'), ('-', 'w'), ('81127625', 'v'), ('、', 'w'), ('0431', 'm'), ('-', 'w'), ('81127628', 'nz'), ('邮箱', 'n'), ('：', 'w'), ('hanyanan', 'xc'), ('@', 'w'), ('cntcitc', 'xc'), ('.', 'w'), ('com', 'xc'), ('.', 'w'), ('cn', 'xc'), ('地址', 'n'), ('：', 'w'), ('长春市', 'LOC'), ('净月区', 'LOC'), ('生态大街2345号', 'LOC'), ('华荣泰', 'ORG'), ('时代', 'n'), ('7栋', 'm'), ('21层', 'm'), ('2023年6月26日', 'TIME'), ('\\n', 'v')]\n",
      "('招标代理机构', 'ORG')\n",
      "('中招国际招标有限公司', 'ORG')\n",
      "('中招国际招标有限公司吉林分公司', 'ORG')\n",
      "('华荣泰', 'ORG')\n"
     ]
    }
   ],
   "source": [
    "tag_list = tag(text)\n",
    "print(tag_list)\n",
    "for i in range(len(tag_list)):\n",
    "    if tag_list[i][1] == \"ORG\" or tag_list[i][1] == \"nr\":\n",
    "        print(tag_list[i])"
   ]
  },
  {
   "cell_type": "code",
   "execution_count": 29,
   "id": "95c2deb8",
   "metadata": {},
   "outputs": [
    {
     "name": "stdout",
     "output_type": "stream",
     "text": [
      "['刘继光']\n"
     ]
    }
   ],
   "source": [
    "_start_ltp = time.time()\n",
    "lis2 = extract_name(text, 'lac')\n",
    "_end_ltp = time.time()\n",
    "print(lis2)"
   ]
  },
  {
   "cell_type": "code",
   "execution_count": 35,
   "id": "227378e0",
   "metadata": {
    "scrolled": true
   },
   "outputs": [
    {
     "name": "stderr",
     "output_type": "stream",
     "text": [
      "\u001b[32m[2023-08-03 11:46:23,355] [    INFO]\u001b[0m - We are using <class 'paddlenlp.transformers.ernie.tokenizer.ErnieTokenizer'> to load '/home/albay/fl_test/data/model/information_extraction/uie-base'.\u001b[0m\n"
     ]
    }
   ],
   "source": [
    "schema = [\"联系人\", \"地址\", \"机构\"]\n",
    "path1 = \"/home/albay/fl_test/\"\n",
    "ie = Taskflow('information_extraction', schema=schema, task_path=path1 + \"data/model/information_extraction/uie-base\")"
   ]
  },
  {
   "cell_type": "code",
   "execution_count": null,
   "id": "e543f6e4",
   "metadata": {},
   "outputs": [],
   "source": [
    "ie(text)"
   ]
  },
  {
   "attachments": {},
   "cell_type": "markdown",
   "id": "dd404c3a",
   "metadata": {},
   "source": [
    "## 文本清洗"
   ]
  },
  {
   "cell_type": "code",
   "execution_count": 41,
   "id": "15c98f07",
   "metadata": {},
   "outputs": [
    {
     "data": {
      "text/plain": [
       "'据中国地震台网正式测定，8 月 6 日 2 时 33 分在山东德州市平原县发生 5.5 级地震，震源深度10 公里；3 时 2 分发生 3.0 级地震，震源深度 9 千米。山东全省普遍有震感，北京、河北等多地震感明显。救地震时的自救与互救很重要首先，评估环境与自身状态评估自己的身体状况，对于逃离危险也很重要。我遭遇了什么？我受伤了吗？评估自己是否受伤，伤情的轻重等。如是否出血、是否骨折等。如果发生了出血，特别是喷射状的动脉出血，必须迅速进行止血自救。一般应迅速采取指压止血，或用弹*较好的带子捆压住出血口的上方进行止血。其次，被**时正确脱险 科学自救如果地震时被**在**中，自救最重要的是镇静、除险、求救。设法保护自己，及时排除险情保存生命，坚定生存信念，等待救援。当手臂或其他部位能动时，应逐步清除压物，尽量挣脱出来。不能脱险时，应在嘴和胸的部位 ，逃出一定空间，保证呼吸。其间要想方设法向外界传递求救信息，要尽可能利用手边的简易工具，间歇*地敲打附近坚硬器物，发出求救信号，耐心等待救援。如果被埋在**下的时间比较长，救援人员未到，或者没有听到呼唤信号，就要想办法维持自己的生命，水和食物一定要节约使用，尽量寻找食品和饮用水，必要时自己的*液也能起到解渴作用。防了解地震知识建立应急预案地震是地球运动的必然结果。在地震之前居民最好了解一些地震的基本知识，建立家庭地震应急预案。①在地震高发区，居民可储备饼干、矿泉水等基本的应急食品。②了解居家附近可能的危险源分布情况，一旦发生地震，便于回避。③积极参加单位或社区组织的地震应急演练训练，掌握自救互救基本技能。在已发布地震预报地区的居民须做好家庭防震准备，制定一个家庭防震计划，检查并及时消除家里不利防震的隐患。\\x0c检查和加固住房，对不利于**的房屋要加固，不宜加固的危房人员要撤离。笨重的房屋装饰物等应拆掉。合理放置家具、物品固定好高大家具，防止倾倒砸人，牢固的家具下面要腾空，以备震时藏身；家具物品摆放做到“重在下，轻在上”，墙上的悬*物要取下来，防止掉下来伤人。清理好杂物，让门口、楼道畅通；阳台护墙要清理，拿掉花盆、杂物。'"
      ]
     },
     "execution_count": 41,
     "metadata": {},
     "output_type": "execute_result"
    }
   ],
   "source": [
    "text = \"\"\"\n",
    "据中国地震台网正式测定，8 月 6 日 2 时 33 分在山东德州市平原县发生 5.5 级地震，震源深度\n",
    "10 公里；3 时 2 分发生 3.0 级地震，震源深度 9 千米。山东全省普遍有震感，北京、河北等多地震\n",
    "感明显。\n",
    "救\n",
    "地震时的自救与互救很重要\n",
    "首先，评估环境与自身状态\n",
    "评估自己的身体状况，对于逃离危险也很重要。我遭遇了什么？我受伤了吗？评估自己是否受\n",
    "伤，伤情的轻重等。\n",
    "如是否出血、是否骨折等。如果发生了出血，特别是喷射状的动脉出血，必须迅速进行止血自\n",
    "救。一般应迅速采取指压止血，或用弹*较好的带子捆压住出血口的上方进行止血。\n",
    "其次，被**时\n",
    "正确脱险 科学自救\n",
    "如果地震时被**在**中，自救最重要的是镇静、除险、求救。设法保护自己，及时排除险\n",
    "情保存生命，坚定生存信念，等待救援。\n",
    "当手臂或其他部位能动时，应逐步清除压物，尽量挣脱出来。不能脱险时，应在嘴和胸的部位 ，\n",
    "逃出一定空间，保证呼吸。\n",
    "其间要想方设法向外界传递求救信息，要尽可能利用手边的简易工具，间歇*地敲打附近坚硬\n",
    "器物，发出求救信号，耐心等待救援。\n",
    "如果被埋在**下的时间比较长，救援人员未到，或者没有听到呼唤信号，就要想办法维持自\n",
    "己的生命，水和食物一定要节约使用，尽量寻找食品和饮用水，必要时自己的*液也能起到解渴作\n",
    "用。\n",
    "防\n",
    "了解地震知识建立应急预案\n",
    "地震是地球运动的必然结果。在地震之前居民最好了解一些地震的基本知识，建立家庭地震应\n",
    "急预案。\n",
    "①在地震高发区，居民可储备饼干、矿泉水等基本的应急食品。\n",
    "②了解居家附近可能的危险源分布情况，一旦发生地震，便于回避。\n",
    "③积极参加单位或社区组织的地震应急演练训练，掌握自救互救基本技能。\n",
    "在已发布地震预报地区的居民须做好家庭防震准备，制定一个家庭防震计划，检查并及时消除\n",
    "家里不利防震的隐患。\n",
    "\n",
    "\f\n",
    "检查和加固住房，对不利于**的房屋要加固，不宜加固的危房人员要撤离。笨重的房屋装饰\n",
    "物等应拆掉。合理放置家具、物品固定好高大家具，防止倾倒砸人，牢固的家具下面要腾空，以备\n",
    "震时藏身；家具物品摆放做到“重在下，轻在上”，墙上的悬*物要取下来，防止掉下来伤人。清理好\n",
    "杂物，让门口、楼道畅通；阳台护墙要清理，拿掉花盆、杂物。\n",
    "\"\"\"\n",
    "text.replace(\"\\n\",\"\")"
   ]
  },
  {
   "attachments": {},
   "cell_type": "markdown",
   "id": "7dcbea14",
   "metadata": {},
   "source": [
    "## 电话号码"
   ]
  },
  {
   "cell_type": "code",
   "execution_count": 75,
   "id": "cb906c6c",
   "metadata": {},
   "outputs": [],
   "source": [
    "import phonenumbers\n",
    "\n",
    "txt = \"我是xxx，今年x岁，电话是15812345678，我的朋友的电话是15845615896, 86495215\"\n",
    "m = phonenumbers.PhoneNumberMatcher(txt, 'CN')\n",
    "numbers = list(m)"
   ]
  },
  {
   "cell_type": "code",
   "execution_count": 70,
   "id": "18bdabba",
   "metadata": {},
   "outputs": [],
   "source": [
    "import re\n",
    "phoneRegex = re.compile(r'''(\\(?\\d{3}\\D{0,3}\\d{3}\\D{0,3}\\d{4}).*?''', re.VERBOSE)"
   ]
  },
  {
   "cell_type": "code",
   "execution_count": 71,
   "id": "26666828",
   "metadata": {},
   "outputs": [],
   "source": [
    "matches = []\n",
    "for groups in phoneRegex.findall(txt) :\n",
    "    phoneNum = ''.join([groups[1], groups[3], groups[5]])\n",
    "    if groups[8] != '' :\n",
    "        phoneNum += ' x' + groups[8]\n",
    "    matches.append(phoneNum)"
   ]
  },
  {
   "cell_type": "code",
   "execution_count": 73,
   "id": "e884e4ff",
   "metadata": {},
   "outputs": [],
   "source": [
    "from pyunit_phone import Phone"
   ]
  },
  {
   "cell_type": "code",
   "execution_count": 96,
   "id": "0ba5b00f",
   "metadata": {},
   "outputs": [
    {
     "data": {
      "text/plain": [
       "[{'type': '移动手机卡',\n",
       "  'province': '吉林',\n",
       "  'city': '长春',\n",
       "  'operators': '移动',\n",
       "  'value': '13944153704'},\n",
       " {'type': '固定电话',\n",
       "  'province': '吉林',\n",
       "  'city': '长春',\n",
       "  'operators': '电信',\n",
       "  'value': '0431-81127625'},\n",
       " {'type': '固定电话',\n",
       "  'province': '吉林',\n",
       "  'city': '长春',\n",
       "  'operators': '电信',\n",
       "  'value': '0431-81127628'},\n",
       " {'type': '固定电话',\n",
       "  'province': '四川',\n",
       "  'city': '南充',\n",
       "  'operators': '电信',\n",
       "  'value': '0817-33355733'},\n",
       " {'type': '固定电话',\n",
       "  'province': '浙江',\n",
       "  'city': '杭州',\n",
       "  'operators': '电信',\n",
       "  'value': '0571-28215512'}]"
      ]
     },
     "execution_count": 96,
     "metadata": {},
     "output_type": "execute_result"
    }
   ],
   "source": [
    "text = \"\"\"\n",
    "机构联系方式招标人：长春某学校联系人：张助理电话：0431-1234567地址：吉林省长春市9、招标代理机构联系方式招标代理机构：中招国际招标有限公司执行机构：中招国际招标有限公司吉林分公司联系人：韩亚男、张林奎电话：0431-81127625、0431-81127628邮箱：hanyanan@cntcitc.com地址：长春市净月区生态大街2345号华荣泰时代7栋21层2023年6月26日\n",
    "联系方式\n",
    "1.采购人信息名称：南充市公安局高坪区分局地址：南充市高坪区东顺路167号联系方式：158817771082.采购代理机构信息名称：南充市高坪区政府采购中心地址：四川省南充市高坪区东顺路三段159号联系方式：0817-33355733.项目联系方式项目联系人：何先生电话：0817-3335573南充市高坪区政府采购中心\n",
    "1、采购人名称：长春市二道区荣光街道办事处\n",
    "联系人：张智超\n",
    "联系电话：13944153704\n",
    "传真：\n",
    "地址：福安街2811号\n",
    "2、运维公司名称：政采云有限公司\n",
    "联系人：客服人员\n",
    "联系电话：4008817190\n",
    "传真：0571-28215512\n",
    "地址：杭州市西湖区转塘科技经济区块9号1幢2区5楼\n",
    "\n",
    "\"\"\"\n",
    "phone = Phone()\n",
    "phone.extract(text)"
   ]
  },
  {
   "cell_type": "code",
   "execution_count": 2,
   "id": "35a51e04",
   "metadata": {},
   "outputs": [
    {
     "name": "stdout",
     "output_type": "stream",
     "text": [
      "最长的元素: luodawie@ce-com.cn\n",
      "剩余元素: ['chenbk@ce-com.cn', 'john@example.com', 'jane@example.com']\n"
     ]
    }
   ],
   "source": []
  },
  {
   "attachments": {},
   "cell_type": "markdown",
   "id": "fe5ece55",
   "metadata": {},
   "source": [
    "## paddle 字典按start排序"
   ]
  },
  {
   "cell_type": "code",
   "execution_count": 1,
   "id": "4ff07a9c",
   "metadata": {},
   "outputs": [],
   "source": [
    "items=[{'text': '梁敬保', 'start': 103, 'end': 106, 'probability': 0.9932415016608758}, {'text': '潘爽', 'start': 28, 'end': 30, 'probability': 0.9762247637091015}, {'text': '席桥', 'start': 31, 'end': 33, 'probability': 0.9118257360099236}, {'text': '范俊峰', 'start': 113, 'end': 116, 'probability': 0.9863161528446724}, {'text': '梁敬保', 'start': 24, 'end': 27, 'probability': 0.9949421399967093}, {'text': '潘爽', 'start': 107, 'end': 109, 'probability': 0.9372413135601931}, {'text': '席桥', 'start': 110, 'end': 112, 'probability': 0.7798369118193271}]"
   ]
  },
  {
   "cell_type": "code",
   "execution_count": 2,
   "id": "534bb375",
   "metadata": {},
   "outputs": [
    {
     "data": {
      "text/plain": [
       "[{'text': '梁敬保', 'start': 103, 'end': 106, 'probability': 0.9932415016608758},\n",
       " {'text': '潘爽', 'start': 28, 'end': 30, 'probability': 0.9762247637091015},\n",
       " {'text': '席桥', 'start': 31, 'end': 33, 'probability': 0.9118257360099236},\n",
       " {'text': '范俊峰', 'start': 113, 'end': 116, 'probability': 0.9863161528446724},\n",
       " {'text': '梁敬保', 'start': 24, 'end': 27, 'probability': 0.9949421399967093},\n",
       " {'text': '潘爽', 'start': 107, 'end': 109, 'probability': 0.9372413135601931},\n",
       " {'text': '席桥', 'start': 110, 'end': 112, 'probability': 0.7798369118193271}]"
      ]
     },
     "execution_count": 2,
     "metadata": {},
     "output_type": "execute_result"
    }
   ],
   "source": [
    "items"
   ]
  },
  {
   "cell_type": "code",
   "execution_count": 6,
   "id": "c4002575",
   "metadata": {},
   "outputs": [],
   "source": [
    "items.sort(key=lambda x:x[\"start\"])"
   ]
  },
  {
   "cell_type": "code",
   "execution_count": 7,
   "id": "19629d41",
   "metadata": {},
   "outputs": [
    {
     "data": {
      "text/plain": [
       "[{'text': '梁敬保', 'start': 24, 'end': 27, 'probability': 0.9949421399967093},\n",
       " {'text': '潘爽', 'start': 28, 'end': 30, 'probability': 0.9762247637091015},\n",
       " {'text': '席桥', 'start': 31, 'end': 33, 'probability': 0.9118257360099236},\n",
       " {'text': '梁敬保', 'start': 103, 'end': 106, 'probability': 0.9932415016608758},\n",
       " {'text': '潘爽', 'start': 107, 'end': 109, 'probability': 0.9372413135601931},\n",
       " {'text': '席桥', 'start': 110, 'end': 112, 'probability': 0.7798369118193271},\n",
       " {'text': '范俊峰', 'start': 113, 'end': 116, 'probability': 0.9863161528446724}]"
      ]
     },
     "execution_count": 7,
     "metadata": {},
     "output_type": "execute_result"
    }
   ],
   "source": [
    "items"
   ]
  },
  {
   "cell_type": "code",
   "execution_count": null,
   "id": "1ed40cba",
   "metadata": {},
   "outputs": [],
   "source": []
  }
 ],
 "metadata": {
  "kernelspec": {
   "display_name": "Python 3",
   "language": "python",
   "name": "python3"
  },
  "language_info": {
   "codemirror_mode": {
    "name": "ipython",
    "version": 3
   },
   "file_extension": ".py",
   "mimetype": "text/x-python",
   "name": "python",
   "nbconvert_exporter": "python",
   "pygments_lexer": "ipython3",
   "version": "3.8.16"
  },
  "toc": {
   "base_numbering": 1,
   "nav_menu": {},
   "number_sections": true,
   "sideBar": true,
   "skip_h1_title": false,
   "title_cell": "Table of Contents",
   "title_sidebar": "Contents",
   "toc_cell": false,
   "toc_position": {},
   "toc_section_display": true,
   "toc_window_display": false
  },
  "varInspector": {
   "cols": {
    "lenName": 16,
    "lenType": 16,
    "lenVar": 40
   },
   "kernels_config": {
    "python": {
     "delete_cmd_postfix": "",
     "delete_cmd_prefix": "del ",
     "library": "var_list.py",
     "varRefreshCmd": "print(var_dic_list())"
    },
    "r": {
     "delete_cmd_postfix": ") ",
     "delete_cmd_prefix": "rm(",
     "library": "var_list.r",
     "varRefreshCmd": "cat(var_dic_list()) "
    }
   },
   "types_to_exclude": [
    "module",
    "function",
    "builtin_function_or_method",
    "instance",
    "_Feature"
   ],
   "window_display": false
  }
 },
 "nbformat": 4,
 "nbformat_minor": 5
}
